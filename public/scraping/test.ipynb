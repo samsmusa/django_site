{
 "cells": [
  {
   "cell_type": "code",
   "execution_count": 1,
   "metadata": {},
   "outputs": [],
   "source": [
    "import requests\n",
    "from bs4 import BeautifulSoup\n",
    "\n",
    "headers1 = {'User-Agent': 'Mozilla/5.0 (Windows NT 6.1; WOW64) AppleWebKit/537.36 (KHTML, like Gecko) Chrome/56.0.2924.76 Safari/537.36', \"Upgrade-Insecure-Requests\": \"1\",\"DNT\": \"1\",\"Accept\": \"text/html,application/xhtml+xml,application/xml;q=0.9,*/*;q=0.8\",\"Accept-Language\": \"en-US,en;q=0.5\",\"Accept-Encoding\": \"gzip, deflate\"}\n",
    "\n",
    "def get_data(url):\n",
    "  html = requests.get(url, headers= headers1)\n",
    "  soup = BeautifulSoup(html.text, \"lxml\")\n",
    "\n",
    "  return soup"
   ]
  },
  {
   "cell_type": "code",
   "execution_count": 5,
   "metadata": {},
   "outputs": [
    {
     "name": "stdout",
     "output_type": "stream",
     "text": [
      "hit\n",
      "1 page\n",
      "soup\n",
      "https://opportunitiescorners.info/international-diplomat-conference-in-baku/\n",
      "https://opportunitiescorners.info/scholarships-in-2022/\n",
      "https://opportunitiescorners.info/fully-funded-scholarships/\n",
      "https://opportunitiescorners.info/yale-university-scholarships-in-usa/\n",
      "https://opportunitiescorners.info/fully-funded-scholarships-2023/\n",
      "https://opportunitiescorners.info/singapore-government-scholarship-2023/\n",
      "hit\n",
      "2 page\n",
      "soup\n",
      "https://opportunitiescorners.info/scholarships-in-italy/\n",
      "https://opportunitiescorners.info/qs-world-university-rankings-2023/\n",
      "https://opportunitiescorners.info/erasmus-mundus-scholarship/\n",
      "https://opportunitiescorners.info/list-of-scholarships-without-ielts-2022/\n",
      "https://opportunitiescorners.info/mext-apu-japan-scholarships/\n",
      "https://opportunitiescorners.info/south-korean-government-scholarships-in-south-korean-universities/\n"
     ]
    }
   ],
   "source": [
    "for i in range(1,3):\n",
    "    print('hit')\n",
    "    print(str(i)+\" page\")\n",
    "    url = \"https://opportunitiescorners.info/category/fully-funded-scholarships/page/\"+str(i)+\"/\"\n",
    "    soup = get_data(url)\n",
    "    print('soup')\n",
    "    div = soup.find(\"div\",class_=\"td-ss-main-content\")\n",
    "    # print(div)\n",
    "    block = div.find_all(\"div\", class_=\"td-block-span6\")\n",
    "    for tags in block:\n",
    "        link = tags.a\n",
    "        \n",
    "        print(link['href'])\n",
    "    "
   ]
  }
 ],
 "metadata": {
  "kernelspec": {
   "display_name": "Python 3.9.5 64-bit",
   "language": "python",
   "name": "python3"
  },
  "language_info": {
   "codemirror_mode": {
    "name": "ipython",
    "version": 3
   },
   "file_extension": ".py",
   "mimetype": "text/x-python",
   "name": "python",
   "nbconvert_exporter": "python",
   "pygments_lexer": "ipython3",
   "version": "3.9.5"
  },
  "orig_nbformat": 4,
  "vscode": {
   "interpreter": {
    "hash": "81794d4967e6c3204c66dcd87b604927b115b27c00565d3d43f05ba2f3a2cb0d"
   }
  }
 },
 "nbformat": 4,
 "nbformat_minor": 2
}
