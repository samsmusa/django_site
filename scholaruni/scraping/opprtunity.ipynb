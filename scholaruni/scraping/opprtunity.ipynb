{
 "cells": [
  {
   "cell_type": "code",
   "execution_count": 1,
   "metadata": {},
   "outputs": [
    {
     "ename": "ModuleNotFoundError",
     "evalue": "No module named 'requests'",
     "output_type": "error",
     "traceback": [
      "\u001b[1;31m---------------------------------------------------------------------------\u001b[0m",
      "\u001b[1;31mModuleNotFoundError\u001b[0m                       Traceback (most recent call last)",
      "\u001b[1;32md:\\1_Working_dir\\mama\\scraping\\opprtunity.ipynb Cell 1'\u001b[0m in \u001b[0;36m<cell line: 1>\u001b[1;34m()\u001b[0m\n\u001b[1;32m----> <a href='vscode-notebook-cell:/d%3A/1_Working_dir/mama/scraping/opprtunity.ipynb#ch0000000?line=0'>1</a>\u001b[0m \u001b[39mimport\u001b[39;00m \u001b[39mrequests\u001b[39;00m\n\u001b[0;32m      <a href='vscode-notebook-cell:/d%3A/1_Working_dir/mama/scraping/opprtunity.ipynb#ch0000000?line=1'>2</a>\u001b[0m \u001b[39mfrom\u001b[39;00m \u001b[39mtqdm\u001b[39;00m \u001b[39mimport\u001b[39;00m tqdm\n\u001b[0;32m      <a href='vscode-notebook-cell:/d%3A/1_Working_dir/mama/scraping/opprtunity.ipynb#ch0000000?line=2'>3</a>\u001b[0m \u001b[39mfrom\u001b[39;00m \u001b[39mbs4\u001b[39;00m \u001b[39mimport\u001b[39;00m BeautifulSoup\n",
      "\u001b[1;31mModuleNotFoundError\u001b[0m: No module named 'requests'"
     ]
    }
   ],
   "source": [
    "import requests\n",
    "from tqdm import tqdm\n",
    "from bs4 import BeautifulSoup\n",
    "import pandas as pd\n",
    "import time\n",
    "import re\n",
    "\n",
    "\n",
    "start = time.time()\n",
    "print(\"__________\")\n",
    "print(start)\n",
    "print(\"__________\")\n",
    "\n",
    "headers1 = {'User-Agent': 'Mozilla/5.0 (Windows NT 6.1; WOW64) AppleWebKit/537.36 (KHTML, like Gecko) Chrome/56.0.2924.76 Safari/537.36', \"Upgrade-Insecure-Requests\": \"1\",\"DNT\": \"1\",\"Accept\": \"text/html,application/xhtml+xml,application/xml;q=0.9,*/*;q=0.8\",\"Accept-Language\": \"en-US,en;q=0.5\",\"Accept-Encoding\": \"gzip, deflate\"}"
   ]
  },
  {
   "cell_type": "code",
   "execution_count": null,
   "metadata": {},
   "outputs": [],
   "source": []
  },
  {
   "cell_type": "code",
   "execution_count": 2,
   "metadata": {},
   "outputs": [],
   "source": [
    "\n",
    "url = \"https://opportunitiescorners.info/korean-government-scholarships/\"\n",
    "\n"
   ]
  },
  {
   "cell_type": "code",
   "execution_count": 50,
   "metadata": {},
   "outputs": [
    {
     "data": {
      "text/plain": [
       "'korean-government-scholarships'"
      ]
     },
     "execution_count": 50,
     "metadata": {},
     "output_type": "execute_result"
    }
   ],
   "source": [
    "# slug = re.search(r'/([\\d]+)', url)\n",
    "# print(slug)\n",
    "url.rsplit('/')[-2]"
   ]
  },
  {
   "cell_type": "code",
   "execution_count": 3,
   "metadata": {},
   "outputs": [],
   "source": [
    "#get source of page\n",
    "def get_data(url):\n",
    "    html = requests.get(url, headers= headers1)\n",
    "    soup = BeautifulSoup(html.text, \"lxml\")\n",
    "\n",
    "    return soup"
   ]
  },
  {
   "cell_type": "code",
   "execution_count": 4,
   "metadata": {},
   "outputs": [],
   "source": [
    "soup = get_data(url)"
   ]
  },
  {
   "cell_type": "code",
   "execution_count": 5,
   "metadata": {},
   "outputs": [
    {
     "data": {
      "text/plain": [
       "'Korean Government Scholarships 2022 | Global Korea Scholarship | Fully Funded'"
      ]
     },
     "execution_count": 5,
     "metadata": {},
     "output_type": "execute_result"
    }
   ],
   "source": [
    "title = soup.find(\"h1\", class_=\"entry-title\").text\n",
    "title"
   ]
  },
  {
   "cell_type": "code",
   "execution_count": 6,
   "metadata": {},
   "outputs": [
    {
     "data": {
      "text/plain": [
       "'11/02/2022'"
      ]
     },
     "execution_count": 6,
     "metadata": {},
     "output_type": "execute_result"
    }
   ],
   "source": [
    "date = soup.find(\"span\", class_=\"td-post-date\").text\n",
    "date"
   ]
  },
  {
   "cell_type": "code",
   "execution_count": 7,
   "metadata": {},
   "outputs": [],
   "source": [
    "content = soup.find(\"div\", class_=\"td-post-content tagdiv-type\")"
   ]
  },
  {
   "cell_type": "code",
   "execution_count": 8,
   "metadata": {},
   "outputs": [],
   "source": [
    "\n",
    "content.div.decompose()\n",
    "content.blockquote.decompose()\n"
   ]
  },
  {
   "cell_type": "code",
   "execution_count": 10,
   "metadata": {},
   "outputs": [
    {
     "data": {
      "text/plain": [
       "[<p>Finally, it’s time for the announcement that the applications for the <strong>Korean Government Scholarships 2022</strong> are now open. The Global Korea Scholarship 2022 for <strong>Undergraduate</strong>, <strong>Masters</strong>, and <strong>Ph.D. Degree</strong> Programs. All the Expenses are covered under this Program. The GKS Scholarship was Previously Known as the <strong>Korean Government Scholarship</strong>. In 2022, the GKS Korean Government’s Global Korea Scholarship Program <strong>aims to Invite 1,378 International Students</strong> to Study <strong>Full-Time, Bachelor’s, Master’s, and Ph.D. Degree</strong> Programs.</p>,\n",
       " <p>There is <strong>No Application Fee Required</strong> for the GKS Scholarship. You can <strong><a href=\"https://opportunitiescorners.info/study-in-south-korea-without-ielts/\">Study in South Korea Without IELTS</a></strong>. There are many <strong><a href=\"https://opportunitiescorners.info/south-korea-scholarships-without-ielts/\">South Korea Scholarships Without IELTS</a></strong>. The Global Korea Scholarship is a <strong>Fully Funded all-expense covered Scholarship</strong>. All Participants from all around the world are eligible to apply for the GKS Korean Government Scholarship. This is one of the Top Scholarship Programs.</p>,\n",
       " <p>A <strong>Wide Range of Academic Fields is available</strong>. All the Korean Universities are Participating In this Scholarship Program. The Call is Open and You can Apply Now. The South Korean Scholarship is one of the most competitive and top scholarship programs in the world. The detailed information about the Global Korean Government Scholarships 2022 is given below.</p>,\n",
       " <h2><strong>Details About Korean Government Scholarship 2022</strong></h2>,\n",
       " <ul>\n",
       " <li><strong>Country: </strong>South Korea</li>\n",
       " <li><strong>Course Level: </strong>Undergraduate, Master’s or Doctoral or Research</li>\n",
       " <li><strong>Financial Coverage: </strong>Fully Funded</li>\n",
       " <li><strong>Deadline: <span style=\"color: #ff0000;\">Varies from Country to Country</span></strong></li>\n",
       " </ul>,\n",
       " <h3><strong>Scholarship Coverage</strong></h3>,\n",
       " <p>Korean Government Scholarship which is now called the Global Korea Scholarship is a Fully Funded Scholarship in Korea for international students. All the expenses will be covered by the Korean Government.</p>,\n",
       " <ul>\n",
       " <li>Round Airfare Tickets</li>\n",
       " <li>Resettlement Allowance (KRW 200,000)</li>\n",
       " <li>Living Allowance (KRW 900,000)</li>\n",
       " <li>Medical Insurance (KRW 20,000)</li>\n",
       " <li>Language Courses</li>\n",
       " <li>Full Tuition Fees</li>\n",
       " <li>Award for Excellent Korean Language Proficiency</li>\n",
       " <li>Research Support (KRW 210,000 – 240,000)</li>\n",
       " <li>Printing Costs (Dissertation) (KRW 500,000 – 800,000)</li>\n",
       " <li>Completion Grant</li>\n",
       " </ul>,\n",
       " <p><strong>Also Check: <a href=\"https://opportunitiescorners.info/spanish-government-scholarships/\">Spanish Government Scholarships 2022 | Fully Funded</a></strong></p>,\n",
       " <h3><strong>No. of Scholarships</strong></h3>,\n",
       " <p>1,278 International Scholarships from 153 regions.</p>,\n",
       " <h3><strong>Available Academic Fields</strong></h3>,\n",
       " <ul>\n",
       " <li>All-Academic Fields &amp; Majors are available Under the Global Korea Scholarship by the Korean Government for Masters &amp; PhD.</li>\n",
       " <li>Applicants must choose their majors (fields of study) that are only listed in the “University Information” file.</li>\n",
       " </ul>,\n",
       " <h3><strong>Scholarship Duration</strong></h3>,\n",
       " <ul>\n",
       " <li><strong>Doctoral Degree Program:</strong> 4 years\n",
       " <ul>\n",
       " <li> 1 year of the Korean language program</li>\n",
       " <li>3 years of the regular degree program</li>\n",
       " </ul>\n",
       " </li>\n",
       " <li><strong>Master’s Degree Program:</strong> 3 years\n",
       " <ul>\n",
       " <li>1 year of the Korean language program</li>\n",
       " <li>2 years of a degree program</li>\n",
       " </ul>\n",
       " </li>\n",
       " <li><strong>Research Program:</strong> 6 Months</li>\n",
       " </ul>,\n",
       " <ul>\n",
       " <li> 1 year of the Korean language program</li>\n",
       " <li>3 years of the regular degree program</li>\n",
       " </ul>,\n",
       " <ul>\n",
       " <li>1 year of the Korean language program</li>\n",
       " <li>2 years of a degree program</li>\n",
       " </ul>,\n",
       " <h3><strong>Eligibility Criteria</strong></h3>,\n",
       " <p><strong>Nationality:</strong></p>,\n",
       " <ul>\n",
       " <li>All applicants and their parents must not hold Korean citizenship.</li>\n",
       " <li>Korean citizens and dual citizenship holders (one who has Korean citizenship and citizenship of another country) are NOT eligible to apply.</li>\n",
       " </ul>,\n",
       " <p><strong>Degree Requirements:</strong></p>,\n",
       " <ul>\n",
       " <li>Applicants must hold or must be expected to hold a Bachelor’s Degree to be enrolled in a Master Program OR hold a Master Degree to be enrolled in PhD. Degree Program.</li>\n",
       " <li><strong>Research Program Applicants</strong>: Must hold a degree or a level of education equivalent to or higher than a Master’s degree and must have received an invitation from one of NIIED’s<br/>\n",
       " designated Korean universities.</li>\n",
       " <li><strong>Postdoctoral Research Program</strong>: Must hold a doctoral degree or a level of education equivalent to a doctoral degree.</li>\n",
       " <li>Applicants who are expected to graduate at the time of applying must first submit the certificate of expected graduation at the time of applying.</li>\n",
       " <li>English Language Requirements/Certificate.</li>\n",
       " </ul>,\n",
       " <h3><strong>Deadline</strong></h3>,\n",
       " <p>The last date to apply for the <strong>Global Korea Scholarship Program 2022</strong> varies from Country to Country and Korean Embassy to Embassy of your Country. All applicants must check the deadline for application submission by contacting their relevant embassy or desired university directly.</p>,\n",
       " <h3><strong>How to Apply</strong></h3>,\n",
       " <ul>\n",
       " <li>The Applicants Need to Fill and Complete the Online Application Form.</li>\n",
       " <li>Read the updated 2022 Scholarship Application Guidelines <strong><a href=\"https://www.studyinkorea.go.kr/en/sub/gks/selectBoardArticle.do;jsessionid=eAfirAPFjhwtKN2DqibgimTrovrIFDz6dGWvYAZz.studyinkorea10\">here</a></strong></li>\n",
       " <li>To Apply, Please <strong><a href=\"https://www.studyinkorea.go.kr/en/sub/gks/selectBoardList.do?bbsId=BBSMSTR_000000000461\">Visit here</a></strong></li>\n",
       " </ul>,\n",
       " <p style=\"text-align: center;\"><strong>Note</strong>: For More Opportunities, Follow our <strong><a href=\"https://www.facebook.com/opportunitiescorners/\">Facebook Page</a></strong>, <strong><a href=\"https://twitter.com/corner_oc\">Twitter</a></strong>, <a href=\"https://www.instagram.com/opportunities_corner/\"><strong>Instagram</strong></a> <a href=\"https://www.linkedin.com/company/opcorner/\"><strong>LinkedIn</strong></a>,<a href=\"https://www.facebook.com/groups/2197897307146576/\"><strong> Join Facebook Group </strong></a>&amp; <strong><a href=\"https://t.me/opcorner\">Telegram Group</a></strong>.</p>]"
      ]
     },
     "execution_count": 10,
     "metadata": {},
     "output_type": "execute_result"
    }
   ],
   "source": [
    "all = content.find_all([\"h2\",\"h3\",\"p\",'ol','ul'])\n",
    "all\n"
   ]
  },
  {
   "cell_type": "code",
   "execution_count": 15,
   "metadata": {},
   "outputs": [],
   "source": [
    "for al in all:\n",
    "    for a in al.findAll('a'):\n",
    "        a['href'] = a['href'].replace(\"opportunitiescorners.info\", \"scholaruni\")\n",
    "        a['href'] = a['href'].replace(\"opportunitiescorners\", \"Scholaruni-106193131997924\")\n",
    "        a['href'] = a['href'].replace(\"opportunities_corner\", \"scholaruni\")\n",
    "        a['href'] = a['href'].replace(\"https://www.facebook.com/groups/2197897307146576/\", \"https://www.facebook.com/groups/904226213585740\")\n",
    "        a['href'] = a['href'].replace(\"opcorner\", \"+6mfqmij5mVhkNTNl\")"
   ]
  },
  {
   "cell_type": "code",
   "execution_count": 47,
   "metadata": {},
   "outputs": [],
   "source": [
    "from datetime import datetime\n",
    "now = datetime.now()"
   ]
  },
  {
   "cell_type": "code",
   "execution_count": 51,
   "metadata": {},
   "outputs": [
    {
     "data": {
      "text/plain": [
       "'2022/02/11 23:42:11'"
      ]
     },
     "execution_count": 51,
     "metadata": {},
     "output_type": "execute_result"
    }
   ],
   "source": [
    "\n",
    "now.strftime(\"%Y/%m/%d %H:%M:%S\")"
   ]
  },
  {
   "cell_type": "code",
   "execution_count": 46,
   "metadata": {},
   "outputs": [
    {
     "data": {
      "text/plain": [
       "'60c748d4-d92d-4668-8042-99c29f7c079e'"
      ]
     },
     "execution_count": 46,
     "metadata": {},
     "output_type": "execute_result"
    }
   ],
   "source": [
    "import uuid\n",
    "str(uuid.uuid4())"
   ]
  },
  {
   "cell_type": "code",
   "execution_count": 16,
   "metadata": {},
   "outputs": [],
   "source": [
    "with open(\"output1.txt\", \"w\", encoding='utf-8') as file:\n",
    "    for text in all:\n",
    "        file.write(str(text))"
   ]
  },
  {
   "cell_type": "code",
   "execution_count": 17,
   "metadata": {},
   "outputs": [],
   "source": [
    "tee = \"\"\n",
    "for text in all:\n",
    "    tee = tee + \"\\n\" + str(text)"
   ]
  },
  {
   "cell_type": "code",
   "execution_count": 18,
   "metadata": {},
   "outputs": [],
   "source": [
    "with open(\"output21.txt\", \"w\", encoding='utf-8') as file:\n",
    "    # for text in all:\n",
    "    file.write(tee)"
   ]
  },
  {
   "cell_type": "code",
   "execution_count": 19,
   "metadata": {},
   "outputs": [],
   "source": [
    "with open(\"country.txt\") as file:\n",
    "    country_nmae = [line.rstrip() for line in file]\n",
    "    "
   ]
  },
  {
   "cell_type": "code",
   "execution_count": 4,
   "metadata": {},
   "outputs": [],
   "source": [
    "url = \"https://en.wikipedia.org/wiki/Lists_of_people_by_nationality\"\n",
    "\n",
    "soup = get_data(url)"
   ]
  },
  {
   "cell_type": "code",
   "execution_count": 5,
   "metadata": {},
   "outputs": [],
   "source": [
    "div = soup.find('div',class_=\"div-col\")"
   ]
  },
  {
   "cell_type": "code",
   "execution_count": 11,
   "metadata": {},
   "outputs": [],
   "source": [
    "cont = div.find_all(\"li\")\n",
    "country = []"
   ]
  },
  {
   "cell_type": "code",
   "execution_count": 12,
   "metadata": {},
   "outputs": [],
   "source": [
    "for count in cont:\n",
    "    country.append(count.text)\n"
   ]
  },
  {
   "cell_type": "code",
   "execution_count": 13,
   "metadata": {},
   "outputs": [
    {
     "data": {
      "text/plain": [
       "224"
      ]
     },
     "execution_count": 13,
     "metadata": {},
     "output_type": "execute_result"
    }
   ],
   "source": [
    "len(country)"
   ]
  },
  {
   "cell_type": "code",
   "execution_count": 25,
   "metadata": {},
   "outputs": [],
   "source": [
    "tee = \"\"\n",
    "for text in country_names:\n",
    "    tee = tee + \"\\n\" + str(text.lower())"
   ]
  },
  {
   "cell_type": "code",
   "execution_count": 26,
   "metadata": {},
   "outputs": [],
   "source": [
    "with open(\"outputcont.txt\", \"w\", encoding='utf-8') as file:\n",
    "    # for text in country:\n",
    "    file.write(tee)"
   ]
  },
  {
   "cell_type": "code",
   "execution_count": 17,
   "metadata": {},
   "outputs": [],
   "source": [
    "contt = tee.split"
   ]
  },
  {
   "cell_type": "code",
   "execution_count": 22,
   "metadata": {},
   "outputs": [],
   "source": [
    "country_names = []\n",
    "for contt in country:\n",
    "    if contt[-1]==\"s\":\n",
    "        country_names.append(contt[:-1])"
   ]
  },
  {
   "cell_type": "code",
   "execution_count": 45,
   "metadata": {},
   "outputs": [],
   "source": [
    "\n",
    "\n",
    "# opportunity\n",
    "url = \"https://opportunitiescorners.info/category/scholarships/page/2/\""
   ]
  },
  {
   "cell_type": "code",
   "execution_count": 46,
   "metadata": {},
   "outputs": [],
   "source": [
    "soup = get_data(url)"
   ]
  },
  {
   "cell_type": "code",
   "execution_count": 49,
   "metadata": {},
   "outputs": [],
   "source": [
    "div = soup.find(\"div\",class_=\"td-ss-main-content\")"
   ]
  },
  {
   "cell_type": "code",
   "execution_count": 50,
   "metadata": {},
   "outputs": [],
   "source": [
    "block = div.find_all(\"div\", class_=\"td-block-span6\")"
   ]
  },
  {
   "cell_type": "code",
   "execution_count": 62,
   "metadata": {},
   "outputs": [],
   "source": [
    "iiiii = div.find_all(\"img\")"
   ]
  },
  {
   "cell_type": "code",
   "execution_count": 65,
   "metadata": {},
   "outputs": [
    {
     "name": "stdout",
     "output_type": "stream",
     "text": [
      "0 data:image/svg+xml,%3Csvg%20xmlns='http://www.w3.org/2000/svg'%20viewBox='0%200%20100%2070'%3E%3C/svg%3E\n",
      "1 https://n2k3y9s6.stackpathcdn.com/wp-content/uploads/2022/02/Add-a-heading-52-min-100x70.jpg\n",
      "2 data:image/svg+xml,%3Csvg%20xmlns='http://www.w3.org/2000/svg'%20viewBox='0%200%20100%2070'%3E%3C/svg%3E\n",
      "3 https://n2k3y9s6.stackpathcdn.com/wp-content/uploads/2022/02/Add-a-heading-47-min-100x70.jpg\n",
      "4 data:image/svg+xml,%3Csvg%20xmlns='http://www.w3.org/2000/svg'%20viewBox='0%200%20100%2070'%3E%3C/svg%3E\n",
      "5 https://n2k3y9s6.stackpathcdn.com/wp-content/uploads/2022/02/Add-a-heading-45-min-100x70.jpg\n",
      "6 data:image/svg+xml,%3Csvg%20xmlns='http://www.w3.org/2000/svg'%20viewBox='0%200%20100%2070'%3E%3C/svg%3E\n",
      "7 https://n2k3y9s6.stackpathcdn.com/wp-content/uploads/2022/02/Add-a-heading-44-min-100x70.jpg\n",
      "8 data:image/svg+xml,%3Csvg%20xmlns='http://www.w3.org/2000/svg'%20viewBox='0%200%20100%2070'%3E%3C/svg%3E\n",
      "9 https://n2k3y9s6.stackpathcdn.com/wp-content/uploads/2022/02/Add-a-heading-43-min-100x70.jpg\n",
      "10 data:image/svg+xml,%3Csvg%20xmlns='http://www.w3.org/2000/svg'%20viewBox='0%200%20100%2070'%3E%3C/svg%3E\n",
      "11 https://n2k3y9s6.stackpathcdn.com/wp-content/uploads/2022/02/Add-a-heading-41-min-100x70.jpg\n"
     ]
    }
   ],
   "source": [
    "for i,j in enumerate(iiiii):\n",
    "    print(i,j['src'])"
   ]
  },
  {
   "cell_type": "code",
   "execution_count": 51,
   "metadata": {},
   "outputs": [
    {
     "data": {
      "text/plain": [
       "6"
      ]
     },
     "execution_count": 51,
     "metadata": {},
     "output_type": "execute_result"
    }
   ],
   "source": [
    "len(block)"
   ]
  },
  {
   "cell_type": "code",
   "execution_count": 69,
   "metadata": {},
   "outputs": [
    {
     "name": "stdout",
     "output_type": "stream",
     "text": [
      "https://n2k3y9s6.stackpathcdn.com/wp-content/uploads/2022/02/Add-a-heading-52-min-100x70.jpg\n",
      "https://opportunitiescorners.info/canadian-government-scholarships/\n",
      "https://n2k3y9s6.stackpathcdn.com/wp-content/uploads/2022/02/Add-a-heading-47-min-100x70.jpg\n",
      "https://opportunitiescorners.info/start-your-degree-in-canada-without-ielts/\n",
      "https://n2k3y9s6.stackpathcdn.com/wp-content/uploads/2022/02/Add-a-heading-45-min-100x70.jpg\n",
      "https://opportunitiescorners.info/fulbright-scholarship-in-usa/\n",
      "https://n2k3y9s6.stackpathcdn.com/wp-content/uploads/2022/02/Add-a-heading-44-min-100x70.jpg\n",
      "https://opportunitiescorners.info/fully-funded-european-scholarships/\n",
      "https://n2k3y9s6.stackpathcdn.com/wp-content/uploads/2022/02/Add-a-heading-43-min-100x70.jpg\n",
      "https://opportunitiescorners.info/fully-funded-australian-scholarships/\n",
      "https://n2k3y9s6.stackpathcdn.com/wp-content/uploads/2022/02/Add-a-heading-41-min-100x70.jpg\n",
      "https://opportunitiescorners.info/spanish-government-scholarships/\n"
     ]
    }
   ],
   "source": [
    "for i in block:\n",
    "    img = i.a\n",
    "    iii = img.findAll(\"img\")\n",
    "    # print(img['href'])\n",
    "    print(iii[1]['src'])\n",
    "    print(img['href'])\n",
    "\n"
   ]
  },
  {
   "cell_type": "code",
   "execution_count": 70,
   "metadata": {},
   "outputs": [
    {
     "data": {
      "text/plain": [
       "'image3'"
      ]
     },
     "execution_count": 70,
     "metadata": {},
     "output_type": "execute_result"
    }
   ],
   "source": [
    "i= 3\n",
    "f\"image{i}\""
   ]
  },
  {
   "cell_type": "code",
   "execution_count": 13,
   "metadata": {},
   "outputs": [
    {
     "data": {
      "text/plain": [
       "[10, 9]"
      ]
     },
     "execution_count": 13,
     "metadata": {},
     "output_type": "execute_result"
    }
   ],
   "source": [
    "li = [1,2,3,4,5,6,7,8,9,10] \n",
    "li[:7:-1]"
   ]
  },
  {
   "cell_type": "code",
   "execution_count": 14,
   "metadata": {},
   "outputs": [
    {
     "data": {
      "text/plain": [
       "[8, 7]"
      ]
     },
     "execution_count": 14,
     "metadata": {},
     "output_type": "execute_result"
    }
   ],
   "source": [
    "li[7:5:-1]"
   ]
  },
  {
   "cell_type": "code",
   "execution_count": 15,
   "metadata": {},
   "outputs": [
    {
     "data": {
      "text/plain": [
       "[6, 5]"
      ]
     },
     "execution_count": 15,
     "metadata": {},
     "output_type": "execute_result"
    }
   ],
   "source": [
    "li[5:3:-1]"
   ]
  },
  {
   "cell_type": "code",
   "execution_count": 16,
   "metadata": {},
   "outputs": [
    {
     "name": "stdout",
     "output_type": "stream",
     "text": [
      "['https://n2k3y9s6.stackpathcdn.com/wp-content/uploads/2021/12/conflicting-copy-malaysian-government-scholarship-2020-by-ministry-of-education-malaysia-2021-12-09t174010.636-min-100x70.jpg', 'https://n2k3y9s6.stackpathcdn.com/wp-content/uploads/2021/12/conflicting-copy-malaysian-government-scholarship-2020-by-ministry-of-education-malaysia-2021-12-09t125058.531-min-100x70.jpg', 'https://n2k3y9s6.stackpathcdn.com/wp-content/uploads/2021/12/conflicting-copy-malaysian-government-scholarship-2020-by-ministry-of-education-malaysia-2021-12-08t132434.780-min-100x70.jpg', 'https://n2k3y9s6.stackpathcdn.com/wp-content/uploads/2021/12/conflicting-copy-malaysian-government-scholarship-2020-by-ministry-of-education-malaysia-2021-12-07t131454.554-min-100x70.jpg', 'https://n2k3y9s6.stackpathcdn.com/wp-content/uploads/2021/12/conflicting-copy-malaysian-government-scholarship-2020-by-ministry-of-education-malaysia-2021-12-06t130337.635-min-100x70.jpg', 'https://n2k3y9s6.stackpathcdn.com/wp-content/uploads/2021/12/conflicting-copy-malaysian-government-scholarship-2020-by-ministry-of-education-malaysia-2021-12-04t133406.560-min-100x70.jpg', 'https://n2k3y9s6.stackpathcdn.com/wp-content/uploads/2021/12/conflicting-copy-malaysian-government-scholarship-2020-by-ministry-of-education-malaysia-2021-12-03t203914.055-min-100x70.jpg', 'https://n2k3y9s6.stackpathcdn.com/wp-content/uploads/2021/12/conflicting-copy-malaysian-government-scholarship-2020-by-ministry-of-education-malaysia-2021-12-03t180343.641-min-100x70.jpg', 'https://n2k3y9s6.stackpathcdn.com/wp-content/uploads/2021/12/conflicting-copy-malaysian-government-scholarship-2020-by-ministry-of-education-malaysia-2021-12-03t143859.548-min-100x70.jpg', 'https://n2k3y9s6.stackpathcdn.com/wp-content/uploads/2021/12/header800x400-min-100x70.png']\n"
     ]
    }
   ],
   "source": [
    "import requests\n",
    "import urllib3.request\n",
    "# imgURL = \"http://site.meishij.net/r/58/25/3568808/a3568808_142682562777944.jpg\"\n",
    "\n",
    "import time\n",
    "\n",
    "headers1 = {'User-Agent': 'Mozilla/5.0 (Windows NT 6.1; WOW64) AppleWebKit/537.36 (KHTML, like Gecko) Chrome/56.0.2924.76 Safari/537.36', \"Upgrade-Insecure-Requests\": \"1\",\"DNT\": \"1\",\"Accept\": \"text/html,application/xhtml+xml,application/xml;q=0.9,*/*;q=0.8\",\"Accept-Language\": \"en-US,en;q=0.5\",\"Accept-Encoding\": \"gzip, deflate\"}\n",
    "\n",
    "\n",
    "\n",
    "with open(\"imagelink.txt\") as file:\n",
    "        img_link = [line.rstrip() for line in file]\n",
    "file.close()\n",
    "\n",
    "print(img_link)\n",
    "\n"
   ]
  },
  {
   "cell_type": "code",
   "execution_count": 6,
   "metadata": {},
   "outputs": [],
   "source": [
    "with open('last_post.txt', 'r') as f:\n",
    "    last_link = f.readlines()[-1]\n",
    "f.close()"
   ]
  },
  {
   "cell_type": "code",
   "execution_count": 7,
   "metadata": {},
   "outputs": [
    {
     "data": {
      "text/plain": [
       "'https://opportunitiescorners.info/fully-funded-scholarships-in-europe/'"
      ]
     },
     "execution_count": 7,
     "metadata": {},
     "output_type": "execute_result"
    }
   ],
   "source": [
    "last_link"
   ]
  },
  {
   "cell_type": "code",
   "execution_count": 5,
   "metadata": {},
   "outputs": [],
   "source": [
    "with open(\"last_post.txt\", \"a\") as file_object:\n",
    "    # Append 'hello' at the end of file\n",
    "    file_object.write(\"\\n\"+\"https://opportunitiescorners.info/fully-funded-scholarships-in-europe/\")"
   ]
  },
  {
   "cell_type": "code",
   "execution_count": 26,
   "metadata": {},
   "outputs": [
    {
     "name": "stdout",
     "output_type": "stream",
     "text": [
      "__________\n",
      "1645411346.5458536\n",
      "__________\n",
      "https://opportunitiescorners.info/king-abdulaziz-scholarship-2022/ 352\n",
      "1 page\n",
      "200\n",
      "False\n",
      "200\n",
      "False\n",
      "200\n",
      "False\n",
      "200\n",
      "False\n",
      "200\n",
      "False\n",
      "200\n",
      "False\n",
      "2 page\n",
      "200\n",
      "True\n"
     ]
    }
   ],
   "source": [
    "from email import header\n",
    "import requests\n",
    "from tqdm import tqdm\n",
    "from bs4 import BeautifulSoup\n",
    "import pandas as pd\n",
    "import time\n",
    "import re\n",
    "\n",
    "\n",
    "start = time.time()\n",
    "print(\"__________\")\n",
    "print(start)\n",
    "print(\"__________\")\n",
    "\n",
    "headers1 = {'User-Agent': 'Mozilla/5.0 (Windows NT 6.1; WOW64) AppleWebKit/537.36 (KHTML, like Gecko) Chrome/56.0.2924.76 Safari/537.36', \"Upgrade-Insecure-Requests\": \"1\",\"DNT\": \"1\",\"Accept\": \"text/html,application/xhtml+xml,application/xml;q=0.9,*/*;q=0.8\",\"Accept-Language\": \"en-US,en;q=0.5\",\"Accept-Encoding\": \"gzip, deflate\"}\n",
    "\n",
    "\n",
    "def get_data(url):\n",
    "    html = requests.get(url, headers= headers1)\n",
    "    soup = BeautifulSoup(html.text, \"lxml\")\n",
    "\n",
    "    return soup\n",
    "\n",
    "\n",
    "with open('last_post.txt', 'r') as f:\n",
    "    lines = f.readlines()\n",
    "    last_link = lines[-1]\n",
    "    j = int(lines[-2])\n",
    "f.close()\n",
    "print(last_link,j)\n",
    "\n",
    "\n",
    "url = \"https://opportunitiescorners.info/category/scholarships/page/2/\"\n",
    "\n",
    "links = []\n",
    "image_links = []\n",
    "j = 352\n",
    "for i in range(1,3):\n",
    "    print(str(i)+\" page\")\n",
    "    url = \"https://opportunitiescorners.info/category/scholarships/page/\"+str(i)+\"/\"\n",
    "    soup = get_data(url)\n",
    "    div = soup.find(\"div\",class_=\"td-ss-main-content\")\n",
    "    block = div.find_all(\"div\", class_=\"td-block-span6\")\n",
    "\n",
    "    \n",
    "    for tags in block:\n",
    "        link = tags.a\n",
    "        image = link.findAll(\"img\")\n",
    "        # print(img['href'])\n",
    "        \n",
    "        li = image[1]['src']\n",
    "        lik = str(li)\n",
    "        img_lk = lik.replace(\"100x70.jpg\",\"356x220.jpg\")\n",
    "\n",
    "        # print(lik)\n",
    "        \n",
    "        \n",
    "        st = requests.get(img_lk, headers= headers1)\n",
    "        print(st.status_code)\n",
    "        if st.status_code == 200:\n",
    "            with open(f\"./image/image/{j}.jpg\", 'wb') as f:\n",
    "                for chunk in st:\n",
    "                    f.write(chunk)\n",
    "            links.append(link['href'])\n",
    "            # print(str(link['href']))\n",
    "            image_links.append(img_lk)\n",
    "            j = j+1\n",
    "            print(links[-1]==last_link)\n",
    "            if links[-1]==last_link:\n",
    "                links.pop()\n",
    "                break"
   ]
  },
  {
   "cell_type": "code",
   "execution_count": 10,
   "metadata": {},
   "outputs": [
    {
     "data": {
      "text/plain": [
       "True"
      ]
     },
     "execution_count": 10,
     "metadata": {},
     "output_type": "execute_result"
    }
   ],
   "source": [
    "last_link==\"https://opportunitiescorners.info/king-abdulaziz-scholarship-2022/\""
   ]
  },
  {
   "cell_type": "code",
   "execution_count": 24,
   "metadata": {},
   "outputs": [
    {
     "data": {
      "text/plain": [
       "4"
      ]
     },
     "execution_count": 24,
     "metadata": {},
     "output_type": "execute_result"
    }
   ],
   "source": [
    "a = [i for i in range(6)]\n",
    "a[-2]"
   ]
  },
  {
   "cell_type": "code",
   "execution_count": 27,
   "metadata": {},
   "outputs": [
    {
     "data": {
      "text/plain": [
       "2"
      ]
     },
     "execution_count": 27,
     "metadata": {},
     "output_type": "execute_result"
    }
   ],
   "source": [
    "import random\n",
    "random.randint(0, 5)"
   ]
  },
  {
   "cell_type": "code",
   "execution_count": 36,
   "metadata": {},
   "outputs": [
    {
     "data": {
      "text/plain": [
       "2"
      ]
     },
     "execution_count": 36,
     "metadata": {},
     "output_type": "execute_result"
    }
   ],
   "source": [
    "random.randint(0, 5)"
   ]
  },
  {
   "cell_type": "code",
   "execution_count": null,
   "metadata": {},
   "outputs": [],
   "source": []
  }
 ],
 "metadata": {
  "interpreter": {
   "hash": "63fd5069d213b44bf678585dea6b12cceca9941eaf7f819626cde1f2670de90d"
  },
  "kernelspec": {
   "display_name": "Python 3.9.5 64-bit",
   "language": "python",
   "name": "python3"
  },
  "language_info": {
   "codemirror_mode": {
    "name": "ipython",
    "version": 3
   },
   "file_extension": ".py",
   "mimetype": "text/x-python",
   "name": "python",
   "nbconvert_exporter": "python",
   "pygments_lexer": "ipython3",
   "version": "3.9.5"
  },
  "orig_nbformat": 4
 },
 "nbformat": 4,
 "nbformat_minor": 2
}
